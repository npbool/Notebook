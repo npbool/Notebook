{
 "cells": [
  {
   "cell_type": "markdown",
   "metadata": {},
   "source": [
    "Get all functions of an object (module here)"
   ]
  },
  {
   "cell_type": "code",
   "execution_count": 6,
   "metadata": {
    "collapsed": false
   },
   "outputs": [
    {
     "data": {
      "text/plain": [
       "[('_execvpe', <function os._execvpe>),\n",
       " ('_exists', <function os._exists>),\n",
       " ('_get_exports_list', <function os._get_exports_list>),\n",
       " ('_spawnvef', <function os._spawnvef>),\n",
       " ('execl', <function os.execl>)]"
      ]
     },
     "execution_count": 6,
     "metadata": {},
     "output_type": "execute_result"
    }
   ],
   "source": [
    "import inspect\n",
    "import os\n",
    "\n",
    "all_func = inspect.getmembers(os, inspect.isfunction)\n",
    "all_func[:5]"
   ]
  },
  {
   "cell_type": "markdown",
   "metadata": {},
   "source": [
    "Disassembly"
   ]
  },
  {
   "cell_type": "code",
   "execution_count": 5,
   "metadata": {
    "collapsed": false
   },
   "outputs": [
    {
     "name": "stdout",
     "output_type": "stream",
     "text": [
      "  3           0 LOAD_FAST                0 (a)\n",
      "              3 LOAD_FAST                1 (b)\n",
      "              6 BINARY_ADD\n",
      "              7 RETURN_VALUE\n"
     ]
    }
   ],
   "source": [
    "import dis\n",
    "def add(a,b):\n",
    "    return a+b\n",
    "dis.dis(add)"
   ]
  },
  {
   "cell_type": "markdown",
   "metadata": {},
   "source": [
    "Singledispatch: polymorphism\n",
    "\n",
    "dispatch by type of first argument"
   ]
  },
  {
   "cell_type": "code",
   "execution_count": 5,
   "metadata": {
    "collapsed": false
   },
   "outputs": [
    {
     "name": "stdout",
     "output_type": "stream",
     "text": [
      "<ul>\n",
      "<li><pre>1 (0x1)</pre></li>\n",
      "<li><pre>3 (0x3)</pre></li>\n",
      "<li><pre>5 (0x5)</pre></li>\n",
      "<li><pre>you<br>\n",
      "tube</pre></li>\n",
      "</ul>\n"
     ]
    }
   ],
   "source": [
    "from functools import singledispatch\n",
    "from collections import abc\n",
    "import html\n",
    "import numbers\n",
    "\n",
    "@singledispatch\n",
    "def htmlize(obj):\n",
    "    content = html.escape(repr(obj))\n",
    "    return \"<pre>{}</pre>\".format(content)\n",
    "\n",
    "@htmlize.register(str)\n",
    "def _(text):\n",
    "    content = html.escape(text).replace('\\n', '<br>\\n')\n",
    "    return \"<pre>{}</pre>\".format(content)\n",
    "\n",
    "@htmlize.register(numbers.Integral)\n",
    "def _(n):\n",
    "    return '<pre>{0} (0x{0:x})</pre>'.format(n)\n",
    "\n",
    "@htmlize.register(abc.MutableSequence)\n",
    "@htmlize.register(tuple)\n",
    "def _(seq):\n",
    "    inner = '</li>\\n<li>'.join(htmlize(item) for item in seq)\n",
    "    return '<ul>\\n<li>' + inner + '</li>\\n</ul>'\n",
    "\n",
    "print(htmlize([1,3,5, 'you\\ntube']))"
   ]
  },
  {
   "cell_type": "markdown",
   "metadata": {},
   "source": [
    "weakref, finalize, weak collection; WeakDictionary, etc."
   ]
  },
  {
   "cell_type": "code",
   "execution_count": 29,
   "metadata": {
    "collapsed": false
   },
   "outputs": [
    {
     "name": "stdout",
     "output_type": "stream",
     "text": [
      "A\n",
      "GONE\n",
      "B\n"
     ]
    }
   ],
   "source": [
    "import weakref\n",
    "def gone():\n",
    "    print(\"GONE\")\n",
    "\n",
    "class A:\n",
    "    def __init__(self, x):\n",
    "        self.x = x\n",
    "a = A(None)\n",
    "b = A(a)\n",
    "a.x = weakref.ref(b)\n",
    "\n",
    "r = weakref.finalize(a, gone)\n",
    "del a\n",
    "print(\"A\")\n",
    "del b \n",
    "print(\"B\")"
   ]
  },
  {
   "cell_type": "code",
   "execution_count": 35,
   "metadata": {
    "collapsed": false
   },
   "outputs": [
    {
     "name": "stdout",
     "output_type": "stream",
     "text": [
      "{1, 2, 3, 4}\n",
      "None\n"
     ]
    }
   ],
   "source": [
    "a = {1,2,3}\n",
    "r = weakref.ref(a)\n",
    "a.add(4)\n",
    "print(r())\n",
    "a = {7,8,9}\n",
    "print(r()) #recycled"
   ]
  },
  {
   "cell_type": "markdown",
   "metadata": {
    "collapsed": true
   },
   "source": [
    "Class attribute: default instance attribute"
   ]
  },
  {
   "cell_type": "code",
   "execution_count": 4,
   "metadata": {
    "collapsed": false
   },
   "outputs": [
    {
     "name": "stdout",
     "output_type": "stream",
     "text": [
      "0 0 0\n",
      "0 10 0\n"
     ]
    }
   ],
   "source": [
    "class A:\n",
    "    attr = 0\n",
    "    def __init__(self):\n",
    "        pass\n",
    "    \n",
    "a = A()\n",
    "b = A()\n",
    "print(A.attr, a.attr, b.attr)\n",
    "a.attr = 10\n",
    "print(A.attr, a.attr, b.attr)"
   ]
  }
 ],
 "metadata": {
  "kernelspec": {
   "display_name": "Python 3",
   "language": "python",
   "name": "python3"
  },
  "language_info": {
   "codemirror_mode": {
    "name": "ipython",
    "version": 3
   },
   "file_extension": ".py",
   "mimetype": "text/x-python",
   "name": "python",
   "nbconvert_exporter": "python",
   "pygments_lexer": "ipython3",
   "version": "3.5.1"
  }
 },
 "nbformat": 4,
 "nbformat_minor": 0
}
